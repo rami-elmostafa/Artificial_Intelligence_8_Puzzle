{
 "cells": [
  {
   "cell_type": "code",
   "execution_count": 156,
   "id": "a6260ccb-2c5e-4193-abe2-ea7815db305d",
   "metadata": {},
   "outputs": [],
   "source": [
    "import random\n",
    "class InitialStateCreater:\n",
    "    @staticmethod\n",
    "    def printcell():\n",
    "        \n",
    "        numbers_array = [0,1,2,3,4,5,6,7,8] #create number array with nums 0-8 inclusive\n",
    "\n",
    "        random.shuffle(numbers_array) #random order for puzzle\n",
    "\n",
    "        arraylist = [] #empty arraylist\n",
    "\n",
    "        for i in range(len(numbers_array)):\n",
    "            arraylist.append(numbers_array[i])      # assign each cell in order to random number\n",
    "\n",
    "        #code for rewriting the arrayList as a 3x3 block with \"borders\"\n",
    "        \n",
    "        for i in range(len(numbers_array)):\n",
    "            print(\"|\", end = \"\")\n",
    "            for j in range(1):\n",
    "                index = arraylist.index(i)\n",
    "                print(index, end = \"\")\n"
   ]
  },
  {
   "cell_type": "code",
   "execution_count": 158,
   "id": "2f6b3a08-873e-4825-8e65-78a824e77e49",
   "metadata": {},
   "outputs": [
    {
     "name": "stdout",
     "output_type": "stream",
     "text": [
      "|4|3|2|0|6|1|5|7|8"
     ]
    }
   ],
   "source": [
    "new = InitialStateCreater()\n",
    "new.printcell()"
   ]
  },
  {
   "cell_type": "code",
   "execution_count": null,
   "id": "89602af2-8d7c-495a-8e34-f112293747af",
   "metadata": {},
   "outputs": [],
   "source": []
  }
 ],
 "metadata": {
  "kernelspec": {
   "display_name": "Python [conda env:base] *",
   "language": "python",
   "name": "conda-base-py"
  },
  "language_info": {
   "codemirror_mode": {
    "name": "ipython",
    "version": 3
   },
   "file_extension": ".py",
   "mimetype": "text/x-python",
   "name": "python",
   "nbconvert_exporter": "python",
   "pygments_lexer": "ipython3",
   "version": "3.12.7"
  }
 },
 "nbformat": 4,
 "nbformat_minor": 5
}
