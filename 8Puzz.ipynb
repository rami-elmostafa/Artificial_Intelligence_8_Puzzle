{
 "cells": [
  {
   "cell_type": "code",
   "execution_count": 45,
   "id": "a6260ccb-2c5e-4193-abe2-ea7815db305d",
   "metadata": {},
   "outputs": [],
   "source": [
    "import random\n",
    "\n",
    "numbers_array = [0,1,2,3,4,5,6,7,8]\n",
    "random.shuffle(numbers_array)\n",
    "\n",
    "arraylist = []\n",
    "\n",
    "for i in range(len(numbers_array)):\n",
    "    arraylist.append(numbers_array[i])\n"
   ]
  }
 ],
 "metadata": {
  "kernelspec": {
   "display_name": "Python [conda env:base] *",
   "language": "python",
   "name": "conda-base-py"
  },
  "language_info": {
   "codemirror_mode": {
    "name": "ipython",
    "version": 3
   },
   "file_extension": ".py",
   "mimetype": "text/x-python",
   "name": "python",
   "nbconvert_exporter": "python",
   "pygments_lexer": "ipython3",
   "version": "3.12.7"
  }
 },
 "nbformat": 4,
 "nbformat_minor": 5
}
